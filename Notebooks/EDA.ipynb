{
 "cells": [
  {
   "cell_type": "markdown",
   "metadata": {},
   "source": [
    "## EDA (Exploratory Data Analisis)\n",
    "        * En este notebook se realiza un analisis de nuestros datasets para encontrar insights y posibles outliers que lleguen a afectar nuestros datos, entendiendo tendencias y resultados obtenidos\n",
    "    "
   ]
  },
  {
   "cell_type": "code",
   "execution_count": 1,
   "metadata": {},
   "outputs": [],
   "source": [
    "# Cargamos las librerias que utilizaremos para nuestro analisis \n",
    "import numpy as np \n",
    "import pandas as pd \n",
    "import matplotlib.pyplot as plt \n",
    "import seaborn as sns\n",
    "from wordcloud import WordCloud\n",
    "import pyarrow"
   ]
  },
  {
   "cell_type": "code",
   "execution_count": 2,
   "metadata": {},
   "outputs": [],
   "source": [
    "# Cargamos nustros datasets \n",
    "games= pd.read_parquet('C:/Users/hp/Desktop/HENRY/Soy_Henry_Modulos/PI_ML/PI_ML_OPS_STEAM/PI_ML_OPS_STEAM/Datasets/steam_games.parquet')\n",
    "reviews= pd.read_parquet('C:/Users/hp/Desktop/HENRY/Soy_Henry_Modulos/PI_ML/PI_ML_OPS_STEAM/PI_ML_OPS_STEAM/Datasets/user_reviews.parquet')\n",
    "items= pd.read_parquet('C:/Users/hp/Desktop/HENRY/Soy_Henry_Modulos/PI_ML/PI_ML_OPS_STEAM/PI_ML_OPS_STEAM/Datasets/users_items.parquet')"
   ]
  },
  {
   "cell_type": "code",
   "execution_count": 3,
   "metadata": {},
   "outputs": [
    {
     "data": {
      "text/html": [
       "<div>\n",
       "<style scoped>\n",
       "    .dataframe tbody tr th:only-of-type {\n",
       "        vertical-align: middle;\n",
       "    }\n",
       "\n",
       "    .dataframe tbody tr th {\n",
       "        vertical-align: top;\n",
       "    }\n",
       "\n",
       "    .dataframe thead th {\n",
       "        text-align: right;\n",
       "    }\n",
       "</style>\n",
       "<table border=\"1\" class=\"dataframe\">\n",
       "  <thead>\n",
       "    <tr style=\"text-align: right;\">\n",
       "      <th></th>\n",
       "      <th>genres</th>\n",
       "      <th>app_name</th>\n",
       "      <th>title</th>\n",
       "      <th>url</th>\n",
       "      <th>release_date</th>\n",
       "      <th>tags</th>\n",
       "      <th>reviews_url</th>\n",
       "      <th>id</th>\n",
       "    </tr>\n",
       "  </thead>\n",
       "  <tbody>\n",
       "    <tr>\n",
       "      <th>0</th>\n",
       "      <td>None</td>\n",
       "      <td>None</td>\n",
       "      <td>None</td>\n",
       "      <td>None</td>\n",
       "      <td>NaT</td>\n",
       "      <td>None</td>\n",
       "      <td>None</td>\n",
       "      <td>NaN</td>\n",
       "    </tr>\n",
       "    <tr>\n",
       "      <th>1</th>\n",
       "      <td>None</td>\n",
       "      <td>None</td>\n",
       "      <td>None</td>\n",
       "      <td>None</td>\n",
       "      <td>NaT</td>\n",
       "      <td>None</td>\n",
       "      <td>None</td>\n",
       "      <td>NaN</td>\n",
       "    </tr>\n",
       "    <tr>\n",
       "      <th>2</th>\n",
       "      <td>None</td>\n",
       "      <td>None</td>\n",
       "      <td>None</td>\n",
       "      <td>None</td>\n",
       "      <td>NaT</td>\n",
       "      <td>None</td>\n",
       "      <td>None</td>\n",
       "      <td>NaN</td>\n",
       "    </tr>\n",
       "    <tr>\n",
       "      <th>3</th>\n",
       "      <td>None</td>\n",
       "      <td>None</td>\n",
       "      <td>None</td>\n",
       "      <td>None</td>\n",
       "      <td>NaT</td>\n",
       "      <td>None</td>\n",
       "      <td>None</td>\n",
       "      <td>NaN</td>\n",
       "    </tr>\n",
       "    <tr>\n",
       "      <th>4</th>\n",
       "      <td>None</td>\n",
       "      <td>None</td>\n",
       "      <td>None</td>\n",
       "      <td>None</td>\n",
       "      <td>NaT</td>\n",
       "      <td>None</td>\n",
       "      <td>None</td>\n",
       "      <td>NaN</td>\n",
       "    </tr>\n",
       "    <tr>\n",
       "      <th>...</th>\n",
       "      <td>...</td>\n",
       "      <td>...</td>\n",
       "      <td>...</td>\n",
       "      <td>...</td>\n",
       "      <td>...</td>\n",
       "      <td>...</td>\n",
       "      <td>...</td>\n",
       "      <td>...</td>\n",
       "    </tr>\n",
       "    <tr>\n",
       "      <th>120440</th>\n",
       "      <td>['Casual', 'Indie', 'Simulation', 'Strategy']</td>\n",
       "      <td>None</td>\n",
       "      <td>Colony On Mars</td>\n",
       "      <td>http://store.steampowered.com/app/773640/Colon...</td>\n",
       "      <td>2018-01-04</td>\n",
       "      <td>['Strategy', 'Indie', 'Casual', 'Simulation']</td>\n",
       "      <td>http://steamcommunity.com/app/773640/reviews/?...</td>\n",
       "      <td>773640.0</td>\n",
       "    </tr>\n",
       "    <tr>\n",
       "      <th>120441</th>\n",
       "      <td>['Casual', 'Indie', 'Strategy']</td>\n",
       "      <td>None</td>\n",
       "      <td>LOGistICAL: South Africa</td>\n",
       "      <td>http://store.steampowered.com/app/733530/LOGis...</td>\n",
       "      <td>2018-01-04</td>\n",
       "      <td>['Strategy', 'Indie', 'Casual']</td>\n",
       "      <td>http://steamcommunity.com/app/733530/reviews/?...</td>\n",
       "      <td>733530.0</td>\n",
       "    </tr>\n",
       "    <tr>\n",
       "      <th>120442</th>\n",
       "      <td>['Indie', 'Racing', 'Simulation']</td>\n",
       "      <td>None</td>\n",
       "      <td>Russian Roads</td>\n",
       "      <td>http://store.steampowered.com/app/610660/Russi...</td>\n",
       "      <td>2018-01-04</td>\n",
       "      <td>['Indie', 'Simulation', 'Racing']</td>\n",
       "      <td>http://steamcommunity.com/app/610660/reviews/?...</td>\n",
       "      <td>610660.0</td>\n",
       "    </tr>\n",
       "    <tr>\n",
       "      <th>120443</th>\n",
       "      <td>['Casual', 'Indie']</td>\n",
       "      <td>None</td>\n",
       "      <td>EXIT 2 - Directions</td>\n",
       "      <td>http://store.steampowered.com/app/658870/EXIT_...</td>\n",
       "      <td>2017-09-02</td>\n",
       "      <td>['Indie', 'Casual', 'Puzzle', 'Singleplayer', ...</td>\n",
       "      <td>http://steamcommunity.com/app/658870/reviews/?...</td>\n",
       "      <td>658870.0</td>\n",
       "    </tr>\n",
       "    <tr>\n",
       "      <th>120444</th>\n",
       "      <td>None</td>\n",
       "      <td>None</td>\n",
       "      <td>None</td>\n",
       "      <td>http://store.steampowered.com/app/681550/Maze_...</td>\n",
       "      <td>NaT</td>\n",
       "      <td>['Early Access', 'Adventure', 'Indie', 'Action...</td>\n",
       "      <td>http://steamcommunity.com/app/681550/reviews/?...</td>\n",
       "      <td>681550.0</td>\n",
       "    </tr>\n",
       "  </tbody>\n",
       "</table>\n",
       "<p>120445 rows × 8 columns</p>\n",
       "</div>"
      ],
      "text/plain": [
       "                                               genres app_name  \\\n",
       "0                                                None     None   \n",
       "1                                                None     None   \n",
       "2                                                None     None   \n",
       "3                                                None     None   \n",
       "4                                                None     None   \n",
       "...                                               ...      ...   \n",
       "120440  ['Casual', 'Indie', 'Simulation', 'Strategy']     None   \n",
       "120441                ['Casual', 'Indie', 'Strategy']     None   \n",
       "120442              ['Indie', 'Racing', 'Simulation']     None   \n",
       "120443                            ['Casual', 'Indie']     None   \n",
       "120444                                           None     None   \n",
       "\n",
       "                           title  \\\n",
       "0                           None   \n",
       "1                           None   \n",
       "2                           None   \n",
       "3                           None   \n",
       "4                           None   \n",
       "...                          ...   \n",
       "120440            Colony On Mars   \n",
       "120441  LOGistICAL: South Africa   \n",
       "120442             Russian Roads   \n",
       "120443       EXIT 2 - Directions   \n",
       "120444                      None   \n",
       "\n",
       "                                                      url release_date  \\\n",
       "0                                                    None          NaT   \n",
       "1                                                    None          NaT   \n",
       "2                                                    None          NaT   \n",
       "3                                                    None          NaT   \n",
       "4                                                    None          NaT   \n",
       "...                                                   ...          ...   \n",
       "120440  http://store.steampowered.com/app/773640/Colon...   2018-01-04   \n",
       "120441  http://store.steampowered.com/app/733530/LOGis...   2018-01-04   \n",
       "120442  http://store.steampowered.com/app/610660/Russi...   2018-01-04   \n",
       "120443  http://store.steampowered.com/app/658870/EXIT_...   2017-09-02   \n",
       "120444  http://store.steampowered.com/app/681550/Maze_...          NaT   \n",
       "\n",
       "                                                     tags  \\\n",
       "0                                                    None   \n",
       "1                                                    None   \n",
       "2                                                    None   \n",
       "3                                                    None   \n",
       "4                                                    None   \n",
       "...                                                   ...   \n",
       "120440      ['Strategy', 'Indie', 'Casual', 'Simulation']   \n",
       "120441                    ['Strategy', 'Indie', 'Casual']   \n",
       "120442                  ['Indie', 'Simulation', 'Racing']   \n",
       "120443  ['Indie', 'Casual', 'Puzzle', 'Singleplayer', ...   \n",
       "120444  ['Early Access', 'Adventure', 'Indie', 'Action...   \n",
       "\n",
       "                                              reviews_url        id  \n",
       "0                                                    None       NaN  \n",
       "1                                                    None       NaN  \n",
       "2                                                    None       NaN  \n",
       "3                                                    None       NaN  \n",
       "4                                                    None       NaN  \n",
       "...                                                   ...       ...  \n",
       "120440  http://steamcommunity.com/app/773640/reviews/?...  773640.0  \n",
       "120441  http://steamcommunity.com/app/733530/reviews/?...  733530.0  \n",
       "120442  http://steamcommunity.com/app/610660/reviews/?...  610660.0  \n",
       "120443  http://steamcommunity.com/app/658870/reviews/?...  658870.0  \n",
       "120444  http://steamcommunity.com/app/681550/reviews/?...  681550.0  \n",
       "\n",
       "[120445 rows x 8 columns]"
      ]
     },
     "execution_count": 3,
     "metadata": {},
     "output_type": "execute_result"
    }
   ],
   "source": [
    "# revisamos que el dataframe games se haya cargado correctamente \n",
    "games"
   ]
  },
  {
   "cell_type": "code",
   "execution_count": 4,
   "metadata": {},
   "outputs": [
    {
     "data": {
      "text/html": [
       "<div>\n",
       "<style scoped>\n",
       "    .dataframe tbody tr th:only-of-type {\n",
       "        vertical-align: middle;\n",
       "    }\n",
       "\n",
       "    .dataframe tbody tr th {\n",
       "        vertical-align: top;\n",
       "    }\n",
       "\n",
       "    .dataframe thead th {\n",
       "        text-align: right;\n",
       "    }\n",
       "</style>\n",
       "<table border=\"1\" class=\"dataframe\">\n",
       "  <thead>\n",
       "    <tr style=\"text-align: right;\">\n",
       "      <th></th>\n",
       "      <th>user_id</th>\n",
       "      <th>user_url</th>\n",
       "      <th>posted</th>\n",
       "      <th>item_id</th>\n",
       "      <th>recommend</th>\n",
       "      <th>review</th>\n",
       "      <th>sentiment_analysis</th>\n",
       "    </tr>\n",
       "  </thead>\n",
       "  <tbody>\n",
       "    <tr>\n",
       "      <th>0</th>\n",
       "      <td>76561197970982479</td>\n",
       "      <td>http://steamcommunity.com/profiles/76561197970...</td>\n",
       "      <td>2011-11-05</td>\n",
       "      <td>1250</td>\n",
       "      <td>True</td>\n",
       "      <td>Simple yet with great replayability. In my opi...</td>\n",
       "      <td>2</td>\n",
       "    </tr>\n",
       "    <tr>\n",
       "      <th>1</th>\n",
       "      <td>76561197970982479</td>\n",
       "      <td>http://steamcommunity.com/profiles/76561197970...</td>\n",
       "      <td>2011-07-15</td>\n",
       "      <td>22200</td>\n",
       "      <td>True</td>\n",
       "      <td>It's unique and worth a playthrough.</td>\n",
       "      <td>2</td>\n",
       "    </tr>\n",
       "    <tr>\n",
       "      <th>2</th>\n",
       "      <td>76561197970982479</td>\n",
       "      <td>http://steamcommunity.com/profiles/76561197970...</td>\n",
       "      <td>2011-04-21</td>\n",
       "      <td>43110</td>\n",
       "      <td>True</td>\n",
       "      <td>Great atmosphere. The gunplay can be a bit chu...</td>\n",
       "      <td>2</td>\n",
       "    </tr>\n",
       "    <tr>\n",
       "      <th>3</th>\n",
       "      <td>js41637</td>\n",
       "      <td>http://steamcommunity.com/id/js41637</td>\n",
       "      <td>2014-06-24</td>\n",
       "      <td>251610</td>\n",
       "      <td>True</td>\n",
       "      <td>I know what you think when you see this title ...</td>\n",
       "      <td>2</td>\n",
       "    </tr>\n",
       "    <tr>\n",
       "      <th>4</th>\n",
       "      <td>js41637</td>\n",
       "      <td>http://steamcommunity.com/id/js41637</td>\n",
       "      <td>2013-09-08</td>\n",
       "      <td>227300</td>\n",
       "      <td>True</td>\n",
       "      <td>For a simple (it's actually not all that simpl...</td>\n",
       "      <td>2</td>\n",
       "    </tr>\n",
       "    <tr>\n",
       "      <th>...</th>\n",
       "      <td>...</td>\n",
       "      <td>...</td>\n",
       "      <td>...</td>\n",
       "      <td>...</td>\n",
       "      <td>...</td>\n",
       "      <td>...</td>\n",
       "      <td>...</td>\n",
       "    </tr>\n",
       "    <tr>\n",
       "      <th>59300</th>\n",
       "      <td>Fuckfhaisjnsnsjakaka</td>\n",
       "      <td>http://steamcommunity.com/id/Fuckfhaisjnsnsjakaka</td>\n",
       "      <td>NaT</td>\n",
       "      <td>70</td>\n",
       "      <td>True</td>\n",
       "      <td>a must have classic from steam definitely wort...</td>\n",
       "      <td>2</td>\n",
       "    </tr>\n",
       "    <tr>\n",
       "      <th>59301</th>\n",
       "      <td>3214213216</td>\n",
       "      <td>http://steamcommunity.com/id/3214213216</td>\n",
       "      <td>NaT</td>\n",
       "      <td>362890</td>\n",
       "      <td>True</td>\n",
       "      <td>this game is a perfect remake of the original ...</td>\n",
       "      <td>2</td>\n",
       "    </tr>\n",
       "    <tr>\n",
       "      <th>59302</th>\n",
       "      <td>ChrisCoroner</td>\n",
       "      <td>http://steamcommunity.com/id/ChrisCoroner</td>\n",
       "      <td>NaT</td>\n",
       "      <td>273110</td>\n",
       "      <td>True</td>\n",
       "      <td>had so much fun plaing this and collecting res...</td>\n",
       "      <td>2</td>\n",
       "    </tr>\n",
       "    <tr>\n",
       "      <th>59303</th>\n",
       "      <td>CaptainAmericaCw</td>\n",
       "      <td>http://steamcommunity.com/id/CaptainAmericaCw</td>\n",
       "      <td>NaT</td>\n",
       "      <td>730</td>\n",
       "      <td>True</td>\n",
       "      <td>:D</td>\n",
       "      <td>2</td>\n",
       "    </tr>\n",
       "    <tr>\n",
       "      <th>59304</th>\n",
       "      <td>76561198267374962</td>\n",
       "      <td>http://steamcommunity.com/profiles/76561198267...</td>\n",
       "      <td>NaT</td>\n",
       "      <td>440</td>\n",
       "      <td>True</td>\n",
       "      <td>so much fun :D</td>\n",
       "      <td>2</td>\n",
       "    </tr>\n",
       "  </tbody>\n",
       "</table>\n",
       "<p>59305 rows × 7 columns</p>\n",
       "</div>"
      ],
      "text/plain": [
       "                    user_id  \\\n",
       "0         76561197970982479   \n",
       "1         76561197970982479   \n",
       "2         76561197970982479   \n",
       "3                   js41637   \n",
       "4                   js41637   \n",
       "...                     ...   \n",
       "59300  Fuckfhaisjnsnsjakaka   \n",
       "59301            3214213216   \n",
       "59302          ChrisCoroner   \n",
       "59303      CaptainAmericaCw   \n",
       "59304     76561198267374962   \n",
       "\n",
       "                                                user_url     posted  item_id  \\\n",
       "0      http://steamcommunity.com/profiles/76561197970... 2011-11-05     1250   \n",
       "1      http://steamcommunity.com/profiles/76561197970... 2011-07-15    22200   \n",
       "2      http://steamcommunity.com/profiles/76561197970... 2011-04-21    43110   \n",
       "3                   http://steamcommunity.com/id/js41637 2014-06-24   251610   \n",
       "4                   http://steamcommunity.com/id/js41637 2013-09-08   227300   \n",
       "...                                                  ...        ...      ...   \n",
       "59300  http://steamcommunity.com/id/Fuckfhaisjnsnsjakaka        NaT       70   \n",
       "59301            http://steamcommunity.com/id/3214213216        NaT   362890   \n",
       "59302          http://steamcommunity.com/id/ChrisCoroner        NaT   273110   \n",
       "59303      http://steamcommunity.com/id/CaptainAmericaCw        NaT      730   \n",
       "59304  http://steamcommunity.com/profiles/76561198267...        NaT      440   \n",
       "\n",
       "       recommend                                             review  \\\n",
       "0           True  Simple yet with great replayability. In my opi...   \n",
       "1           True               It's unique and worth a playthrough.   \n",
       "2           True  Great atmosphere. The gunplay can be a bit chu...   \n",
       "3           True  I know what you think when you see this title ...   \n",
       "4           True  For a simple (it's actually not all that simpl...   \n",
       "...          ...                                                ...   \n",
       "59300       True  a must have classic from steam definitely wort...   \n",
       "59301       True  this game is a perfect remake of the original ...   \n",
       "59302       True  had so much fun plaing this and collecting res...   \n",
       "59303       True                                                 :D   \n",
       "59304       True                                     so much fun :D   \n",
       "\n",
       "       sentiment_analysis  \n",
       "0                       2  \n",
       "1                       2  \n",
       "2                       2  \n",
       "3                       2  \n",
       "4                       2  \n",
       "...                   ...  \n",
       "59300                   2  \n",
       "59301                   2  \n",
       "59302                   2  \n",
       "59303                   2  \n",
       "59304                   2  \n",
       "\n",
       "[59305 rows x 7 columns]"
      ]
     },
     "execution_count": 4,
     "metadata": {},
     "output_type": "execute_result"
    }
   ],
   "source": [
    "# revisamos que el dataframe reviews se haya cargado correctamente \n",
    "reviews"
   ]
  },
  {
   "cell_type": "code",
   "execution_count": 5,
   "metadata": {},
   "outputs": [
    {
     "data": {
      "text/html": [
       "<div>\n",
       "<style scoped>\n",
       "    .dataframe tbody tr th:only-of-type {\n",
       "        vertical-align: middle;\n",
       "    }\n",
       "\n",
       "    .dataframe tbody tr th {\n",
       "        vertical-align: top;\n",
       "    }\n",
       "\n",
       "    .dataframe thead th {\n",
       "        text-align: right;\n",
       "    }\n",
       "</style>\n",
       "<table border=\"1\" class=\"dataframe\">\n",
       "  <thead>\n",
       "    <tr style=\"text-align: right;\">\n",
       "      <th></th>\n",
       "      <th>user_id</th>\n",
       "      <th>item_id</th>\n",
       "      <th>item_name</th>\n",
       "      <th>playtime_forever</th>\n",
       "    </tr>\n",
       "  </thead>\n",
       "  <tbody>\n",
       "    <tr>\n",
       "      <th>0</th>\n",
       "      <td>76561197970982479</td>\n",
       "      <td>10</td>\n",
       "      <td>Counter-Strike</td>\n",
       "      <td>6.0</td>\n",
       "    </tr>\n",
       "    <tr>\n",
       "      <th>1</th>\n",
       "      <td>76561197970982479</td>\n",
       "      <td>20</td>\n",
       "      <td>Team Fortress Classic</td>\n",
       "      <td>0.0</td>\n",
       "    </tr>\n",
       "    <tr>\n",
       "      <th>2</th>\n",
       "      <td>76561197970982479</td>\n",
       "      <td>30</td>\n",
       "      <td>Day of Defeat</td>\n",
       "      <td>7.0</td>\n",
       "    </tr>\n",
       "    <tr>\n",
       "      <th>3</th>\n",
       "      <td>76561197970982479</td>\n",
       "      <td>40</td>\n",
       "      <td>Deathmatch Classic</td>\n",
       "      <td>0.0</td>\n",
       "    </tr>\n",
       "    <tr>\n",
       "      <th>4</th>\n",
       "      <td>76561197970982479</td>\n",
       "      <td>50</td>\n",
       "      <td>Half-Life: Opposing Force</td>\n",
       "      <td>0.0</td>\n",
       "    </tr>\n",
       "    <tr>\n",
       "      <th>...</th>\n",
       "      <td>...</td>\n",
       "      <td>...</td>\n",
       "      <td>...</td>\n",
       "      <td>...</td>\n",
       "    </tr>\n",
       "    <tr>\n",
       "      <th>5170009</th>\n",
       "      <td>76561198329548331</td>\n",
       "      <td>346330</td>\n",
       "      <td>BrainBread 2</td>\n",
       "      <td>0.0</td>\n",
       "    </tr>\n",
       "    <tr>\n",
       "      <th>5170010</th>\n",
       "      <td>76561198329548331</td>\n",
       "      <td>373330</td>\n",
       "      <td>All Is Dust</td>\n",
       "      <td>0.0</td>\n",
       "    </tr>\n",
       "    <tr>\n",
       "      <th>5170011</th>\n",
       "      <td>76561198329548331</td>\n",
       "      <td>388490</td>\n",
       "      <td>One Way To Die: Steam Edition</td>\n",
       "      <td>3.0</td>\n",
       "    </tr>\n",
       "    <tr>\n",
       "      <th>5170012</th>\n",
       "      <td>76561198329548331</td>\n",
       "      <td>521570</td>\n",
       "      <td>You Have 10 Seconds 2</td>\n",
       "      <td>4.0</td>\n",
       "    </tr>\n",
       "    <tr>\n",
       "      <th>5170013</th>\n",
       "      <td>76561198329548331</td>\n",
       "      <td>519140</td>\n",
       "      <td>Minds Eyes</td>\n",
       "      <td>3.0</td>\n",
       "    </tr>\n",
       "  </tbody>\n",
       "</table>\n",
       "<p>5153209 rows × 4 columns</p>\n",
       "</div>"
      ],
      "text/plain": [
       "                   user_id  item_id                      item_name  \\\n",
       "0        76561197970982479       10                 Counter-Strike   \n",
       "1        76561197970982479       20          Team Fortress Classic   \n",
       "2        76561197970982479       30                  Day of Defeat   \n",
       "3        76561197970982479       40             Deathmatch Classic   \n",
       "4        76561197970982479       50      Half-Life: Opposing Force   \n",
       "...                    ...      ...                            ...   \n",
       "5170009  76561198329548331   346330                   BrainBread 2   \n",
       "5170010  76561198329548331   373330                    All Is Dust   \n",
       "5170011  76561198329548331   388490  One Way To Die: Steam Edition   \n",
       "5170012  76561198329548331   521570          You Have 10 Seconds 2   \n",
       "5170013  76561198329548331   519140                     Minds Eyes   \n",
       "\n",
       "         playtime_forever  \n",
       "0                     6.0  \n",
       "1                     0.0  \n",
       "2                     7.0  \n",
       "3                     0.0  \n",
       "4                     0.0  \n",
       "...                   ...  \n",
       "5170009               0.0  \n",
       "5170010               0.0  \n",
       "5170011               3.0  \n",
       "5170012               4.0  \n",
       "5170013               3.0  \n",
       "\n",
       "[5153209 rows x 4 columns]"
      ]
     },
     "execution_count": 5,
     "metadata": {},
     "output_type": "execute_result"
    }
   ],
   "source": [
    "# revisamos que el dataframe items se haya cargado correctamente  \n",
    "items"
   ]
  },
  {
   "cell_type": "code",
   "execution_count": 6,
   "metadata": {},
   "outputs": [
    {
     "data": {
      "text/plain": [
       "genres                  object\n",
       "app_name                object\n",
       "title                   object\n",
       "url                     object\n",
       "release_date    datetime64[ns]\n",
       "tags                    object\n",
       "reviews_url             object\n",
       "id                     float64\n",
       "dtype: object"
      ]
     },
     "execution_count": 6,
     "metadata": {},
     "output_type": "execute_result"
    }
   ],
   "source": [
    "games.dtypes"
   ]
  },
  {
   "cell_type": "code",
   "execution_count": 7,
   "metadata": {},
   "outputs": [
    {
     "name": "stdout",
     "output_type": "stream",
     "text": [
      "<class 'pandas.core.frame.DataFrame'>\n",
      "RangeIndex: 120445 entries, 0 to 120444\n",
      "Data columns (total 8 columns):\n",
      " #   Column        Non-Null Count  Dtype         \n",
      "---  ------        --------------  -----         \n",
      " 0   genres        28852 non-null  object        \n",
      " 1   app_name      0 non-null      object        \n",
      " 2   title         30085 non-null  object        \n",
      " 3   url           32135 non-null  object        \n",
      " 4   release_date  29783 non-null  datetime64[ns]\n",
      " 5   tags          31972 non-null  object        \n",
      " 6   reviews_url   32133 non-null  object        \n",
      " 7   id            32133 non-null  float64       \n",
      "dtypes: datetime64[ns](1), float64(1), object(6)\n",
      "memory usage: 7.4+ MB\n"
     ]
    }
   ],
   "source": [
    "games.info()\n"
   ]
  },
  {
   "cell_type": "code",
   "execution_count": 8,
   "metadata": {},
   "outputs": [],
   "source": [
    "# encontramos que la columna'app_name' no contiene ningun dato que pueda aportar valor al EDA \n",
    "games['app_name'].value_counts()\n",
    "# eliminamos la columna 'app_name'\n",
    "games.drop('app_name',axis=1, inplace=True)"
   ]
  },
  {
   "cell_type": "code",
   "execution_count": 9,
   "metadata": {},
   "outputs": [
    {
     "data": {
      "text/plain": [
       "88309"
      ]
     },
     "execution_count": 9,
     "metadata": {},
     "output_type": "execute_result"
    }
   ],
   "source": [
    "# contamos los datos duplicados \n",
    "games.duplicated().sum()"
   ]
  },
  {
   "cell_type": "code",
   "execution_count": 10,
   "metadata": {},
   "outputs": [],
   "source": [
    "# eliminamos los datos duplicados \n",
    "games.drop_duplicates(inplace=True)"
   ]
  },
  {
   "cell_type": "code",
   "execution_count": 11,
   "metadata": {},
   "outputs": [
    {
     "data": {
      "image/png": "[encoded data removed]",
      "text/plain": [
       "<Figure size 640x480 with 1 Axes>"
      ]
     },
     "metadata": {},
     "output_type": "display_data"
    }
   ],
   "source": [
    "# Calcular la cantidad de valores nulos en cada columna\n",
    "conteo_de_nulos = games.isnull().sum()\n",
    "\n",
    "# Crear la gráfica de barras\n",
    "plt.bar(conteo_de_nulos.index, conteo_de_nulos.values,color='grey')\n",
    "plt.title('datos nulos por columna ')\n",
    "plt.ylabel('cantidad denulos ')\n",
    "plt.xlabel('columna') \n",
    "# Mostrar la gráfica\n",
    "plt.show()"
   ]
  },
  {
   "cell_type": "code",
   "execution_count": 12,
   "metadata": {},
   "outputs": [
    {
     "data": {
      "text/plain": [
       "genres          3284\n",
       "title           2051\n",
       "url                1\n",
       "release_date    2353\n",
       "tags             164\n",
       "reviews_url        3\n",
       "id                 3\n",
       "dtype: int64"
      ]
     },
     "execution_count": 12,
     "metadata": {},
     "output_type": "execute_result"
    }
   ],
   "source": [
    "games.isnull().sum()"
   ]
  },
  {
   "cell_type": "code",
   "execution_count": 13,
   "metadata": {},
   "outputs": [],
   "source": [
    "# elimiamos los datos nulos ya que la proporcion a los datos totales por columna abarca mas del 75% \n",
    "games.dropna(inplace=True)\n",
    "games.reset_index(drop=True, inplace=True)"
   ]
  },
  {
   "cell_type": "code",
   "execution_count": 14,
   "metadata": {},
   "outputs": [],
   "source": [
    "# encontramos que la columna id es tipo float y lo necesitamos int \n",
    "# cambiamos el tipo de dato de la columna id \n",
    "games['id']= games['id'].astype(int)"
   ]
  },
  {
   "cell_type": "code",
   "execution_count": 15,
   "metadata": {},
   "outputs": [
    {
     "data": {
      "text/html": [
       "<div>\n",
       "<style scoped>\n",
       "    .dataframe tbody tr th:only-of-type {\n",
       "        vertical-align: middle;\n",
       "    }\n",
       "\n",
       "    .dataframe tbody tr th {\n",
       "        vertical-align: top;\n",
       "    }\n",
       "\n",
       "    .dataframe thead th {\n",
       "        text-align: right;\n",
       "    }\n",
       "</style>\n",
       "<table border=\"1\" class=\"dataframe\">\n",
       "  <thead>\n",
       "    <tr style=\"text-align: right;\">\n",
       "      <th></th>\n",
       "      <th>release_date</th>\n",
       "      <th>id</th>\n",
       "    </tr>\n",
       "  </thead>\n",
       "  <tbody>\n",
       "    <tr>\n",
       "      <th>count</th>\n",
       "      <td>28523</td>\n",
       "      <td>2.852300e+04</td>\n",
       "    </tr>\n",
       "    <tr>\n",
       "      <th>mean</th>\n",
       "      <td>2015-05-27 07:22:24.304596224</td>\n",
       "      <td>4.401102e+05</td>\n",
       "    </tr>\n",
       "    <tr>\n",
       "      <th>min</th>\n",
       "      <td>1983-06-19 00:00:00</td>\n",
       "      <td>1.000000e+01</td>\n",
       "    </tr>\n",
       "    <tr>\n",
       "      <th>25%</th>\n",
       "      <td>2014-10-27 00:00:00</td>\n",
       "      <td>3.175055e+05</td>\n",
       "    </tr>\n",
       "    <tr>\n",
       "      <th>50%</th>\n",
       "      <td>2016-04-25 00:00:00</td>\n",
       "      <td>4.343600e+05</td>\n",
       "    </tr>\n",
       "    <tr>\n",
       "      <th>75%</th>\n",
       "      <td>2017-04-19 00:00:00</td>\n",
       "      <td>5.852150e+05</td>\n",
       "    </tr>\n",
       "    <tr>\n",
       "      <th>max</th>\n",
       "      <td>2021-12-31 00:00:00</td>\n",
       "      <td>2.028850e+06</td>\n",
       "    </tr>\n",
       "    <tr>\n",
       "      <th>std</th>\n",
       "      <td>NaN</td>\n",
       "      <td>1.846429e+05</td>\n",
       "    </tr>\n",
       "  </tbody>\n",
       "</table>\n",
       "</div>"
      ],
      "text/plain": [
       "                        release_date            id\n",
       "count                          28523  2.852300e+04\n",
       "mean   2015-05-27 07:22:24.304596224  4.401102e+05\n",
       "min              1983-06-19 00:00:00  1.000000e+01\n",
       "25%              2014-10-27 00:00:00  3.175055e+05\n",
       "50%              2016-04-25 00:00:00  4.343600e+05\n",
       "75%              2017-04-19 00:00:00  5.852150e+05\n",
       "max              2021-12-31 00:00:00  2.028850e+06\n",
       "std                              NaN  1.846429e+05"
      ]
     },
     "execution_count": 15,
     "metadata": {},
     "output_type": "execute_result"
    }
   ],
   "source": [
    "games.describe()"
   ]
  },
  {
   "cell_type": "code",
   "execution_count": 16,
   "metadata": {},
   "outputs": [
    {
     "data": {
      "text/html": [
       "<div>\n",
       "<style scoped>\n",
       "    .dataframe tbody tr th:only-of-type {\n",
       "        vertical-align: middle;\n",
       "    }\n",
       "\n",
       "    .dataframe tbody tr th {\n",
       "        vertical-align: top;\n",
       "    }\n",
       "\n",
       "    .dataframe thead th {\n",
       "        text-align: right;\n",
       "    }\n",
       "</style>\n",
       "<table border=\"1\" class=\"dataframe\">\n",
       "  <thead>\n",
       "    <tr style=\"text-align: right;\">\n",
       "      <th>col_0</th>\n",
       "      <th>Count</th>\n",
       "    </tr>\n",
       "    <tr>\n",
       "      <th>genres</th>\n",
       "      <th></th>\n",
       "    </tr>\n",
       "  </thead>\n",
       "  <tbody>\n",
       "    <tr>\n",
       "      <th>['Accounting', 'Animation &amp;amp; Modeling', 'Audio Production', 'Design &amp;amp; Illustration', 'Education', 'Photo Editing', 'Software Training', 'Utilities', 'Video Production', 'Web Publishing']</th>\n",
       "      <td>1</td>\n",
       "    </tr>\n",
       "    <tr>\n",
       "      <th>['Accounting', 'Utilities']</th>\n",
       "      <td>1</td>\n",
       "    </tr>\n",
       "    <tr>\n",
       "      <th>['Accounting']</th>\n",
       "      <td>3</td>\n",
       "    </tr>\n",
       "    <tr>\n",
       "      <th>['Action', 'Adventure', 'Casual', 'Free to Play', 'Indie', 'Early Access']</th>\n",
       "      <td>2</td>\n",
       "    </tr>\n",
       "    <tr>\n",
       "      <th>['Action', 'Adventure', 'Casual', 'Free to Play', 'Indie', 'Massively Multiplayer', 'RPG', 'Early Access']</th>\n",
       "      <td>1</td>\n",
       "    </tr>\n",
       "    <tr>\n",
       "      <th>...</th>\n",
       "      <td>...</td>\n",
       "    </tr>\n",
       "    <tr>\n",
       "      <th>['Utilities', 'Video Production']</th>\n",
       "      <td>11</td>\n",
       "    </tr>\n",
       "    <tr>\n",
       "      <th>['Utilities', 'Web Publishing']</th>\n",
       "      <td>1</td>\n",
       "    </tr>\n",
       "    <tr>\n",
       "      <th>['Utilities']</th>\n",
       "      <td>74</td>\n",
       "    </tr>\n",
       "    <tr>\n",
       "      <th>['Video Production']</th>\n",
       "      <td>21</td>\n",
       "    </tr>\n",
       "    <tr>\n",
       "      <th>['Web Publishing']</th>\n",
       "      <td>8</td>\n",
       "    </tr>\n",
       "  </tbody>\n",
       "</table>\n",
       "<p>877 rows × 1 columns</p>\n",
       "</div>"
      ],
      "text/plain": [
       "col_0                                               Count\n",
       "genres                                                   \n",
       "['Accounting', 'Animation &amp; Modeling', 'Aud...      1\n",
       "['Accounting', 'Utilities']                             1\n",
       "['Accounting']                                          3\n",
       "['Action', 'Adventure', 'Casual', 'Free to Play...      2\n",
       "['Action', 'Adventure', 'Casual', 'Free to Play...      1\n",
       "...                                                   ...\n",
       "['Utilities', 'Video Production']                      11\n",
       "['Utilities', 'Web Publishing']                         1\n",
       "['Utilities']                                          74\n",
       "['Video Production']                                   21\n",
       "['Web Publishing']                                      8\n",
       "\n",
       "[877 rows x 1 columns]"
      ]
     },
     "execution_count": 16,
     "metadata": {},
     "output_type": "execute_result"
    }
   ],
   "source": [
    "genre = pd.crosstab(games['genres'],columns='Count')\n",
    "genre"
   ]
  },
  {
   "cell_type": "code",
   "execution_count": 17,
   "metadata": {},
   "outputs": [
    {
     "data": {
      "image/png": "[encoded data removed]",
      "text/plain": [
       "<Figure size 640x480 with 1 Axes>"
      ]
     },
     "metadata": {},
     "output_type": "display_data"
    }
   ],
   "source": [
    "\n",
    "sns.histplot(genre,bins=15,cbar=True)\n",
    "plt.show()"
   ]
  },
  {
   "cell_type": "code",
   "execution_count": 22,
   "metadata": {},
   "outputs": [
    {
     "data": {
      "text/html": [
       "<div>\n",
       "<style scoped>\n",
       "    .dataframe tbody tr th:only-of-type {\n",
       "        vertical-align: middle;\n",
       "    }\n",
       "\n",
       "    .dataframe tbody tr th {\n",
       "        vertical-align: top;\n",
       "    }\n",
       "\n",
       "    .dataframe thead th {\n",
       "        text-align: right;\n",
       "    }\n",
       "</style>\n",
       "<table border=\"1\" class=\"dataframe\">\n",
       "  <thead>\n",
       "    <tr style=\"text-align: right;\">\n",
       "      <th>col_0</th>\n",
       "      <th>count</th>\n",
       "    </tr>\n",
       "    <tr>\n",
       "      <th>release_date</th>\n",
       "      <th></th>\n",
       "    </tr>\n",
       "  </thead>\n",
       "  <tbody>\n",
       "    <tr>\n",
       "      <th>1983-06-19</th>\n",
       "      <td>1</td>\n",
       "    </tr>\n",
       "    <tr>\n",
       "      <th>1984-04-29</th>\n",
       "      <td>1</td>\n",
       "    </tr>\n",
       "    <tr>\n",
       "      <th>1984-11-01</th>\n",
       "      <td>1</td>\n",
       "    </tr>\n",
       "    <tr>\n",
       "      <th>1985-01-01</th>\n",
       "      <td>1</td>\n",
       "    </tr>\n",
       "    <tr>\n",
       "      <th>1986-05-01</th>\n",
       "      <td>1</td>\n",
       "    </tr>\n",
       "    <tr>\n",
       "      <th>...</th>\n",
       "      <td>...</td>\n",
       "    </tr>\n",
       "    <tr>\n",
       "      <th>2018-12-31</th>\n",
       "      <td>1</td>\n",
       "    </tr>\n",
       "    <tr>\n",
       "      <th>2019-05-01</th>\n",
       "      <td>1</td>\n",
       "    </tr>\n",
       "    <tr>\n",
       "      <th>2019-09-16</th>\n",
       "      <td>1</td>\n",
       "    </tr>\n",
       "    <tr>\n",
       "      <th>2019-12-10</th>\n",
       "      <td>1</td>\n",
       "    </tr>\n",
       "    <tr>\n",
       "      <th>2021-12-31</th>\n",
       "      <td>1</td>\n",
       "    </tr>\n",
       "  </tbody>\n",
       "</table>\n",
       "<p>3266 rows × 1 columns</p>\n",
       "</div>"
      ],
      "text/plain": [
       "col_0         count\n",
       "release_date       \n",
       "1983-06-19        1\n",
       "1984-04-29        1\n",
       "1984-11-01        1\n",
       "1985-01-01        1\n",
       "1986-05-01        1\n",
       "...             ...\n",
       "2018-12-31        1\n",
       "2019-05-01        1\n",
       "2019-09-16        1\n",
       "2019-12-10        1\n",
       "2021-12-31        1\n",
       "\n",
       "[3266 rows x 1 columns]"
      ]
     },
     "execution_count": 22,
     "metadata": {},
     "output_type": "execute_result"
    }
   ],
   "source": [
    "release = pd.crosstab(games['release_date'],columns='count')\n",
    "release"
   ]
  },
  {
   "cell_type": "code",
   "execution_count": 19,
   "metadata": {},
   "outputs": [
    {
     "data": {
      "image/png": "[encoded data removed]",
      "text/plain": [
       "<Figure size 589.125x500 with 1 Axes>"
      ]
     },
     "metadata": {},
     "output_type": "display_data"
    }
   ],
   "source": [
    "sns.displot(release)\n",
    "plt.show()"
   ]
  },
  {
   "cell_type": "code",
   "execution_count": 23,
   "metadata": {},
   "outputs": [
    {
     "data": {
      "text/plain": [
       "0.6141603479485767"
      ]
     },
     "execution_count": 23,
     "metadata": {},
     "output_type": "execute_result"
    }
   ],
   "source": [
    "# busamos correlacion entre las variables numericas \n",
    "games['release_date'].corr(games['id'])"
   ]
  },
  {
   "cell_type": "code",
   "execution_count": 19,
   "metadata": {},
   "outputs": [
    {
     "data": {
      "text/plain": [
       "user_id                   0\n",
       "user_url                  0\n",
       "posted                10119\n",
       "item_id                   0\n",
       "recommend                 0\n",
       "review                    0\n",
       "sentiment_analysis        0\n",
       "dtype: int64"
      ]
     },
     "execution_count": 19,
     "metadata": {},
     "output_type": "execute_result"
    }
   ],
   "source": [
    "# verificamos valores faltantes\n",
    "reviews.isnull().sum()\n",
    "# solo se encontraron valores faltantes en la columna posted "
   ]
  },
  {
   "cell_type": "code",
   "execution_count": 20,
   "metadata": {},
   "outputs": [],
   "source": [
    "#eliminamos los datos faltantes \n",
    "reviews.dropna(inplace=True)"
   ]
  },
  {
   "cell_type": "code",
   "execution_count": 21,
   "metadata": {},
   "outputs": [
    {
     "data": {
      "text/plain": [
       "116"
      ]
     },
     "execution_count": 21,
     "metadata": {},
     "output_type": "execute_result"
    }
   ],
   "source": [
    "#verificamos si existen datos duplicados \n",
    "reviews.duplicated().sum()"
   ]
  },
  {
   "cell_type": "code",
   "execution_count": 22,
   "metadata": {},
   "outputs": [
    {
     "data": {
      "text/html": [
       "<div>\n",
       "<style scoped>\n",
       "    .dataframe tbody tr th:only-of-type {\n",
       "        vertical-align: middle;\n",
       "    }\n",
       "\n",
       "    .dataframe tbody tr th {\n",
       "        vertical-align: top;\n",
       "    }\n",
       "\n",
       "    .dataframe thead th {\n",
       "        text-align: right;\n",
       "    }\n",
       "</style>\n",
       "<table border=\"1\" class=\"dataframe\">\n",
       "  <thead>\n",
       "    <tr style=\"text-align: right;\">\n",
       "      <th></th>\n",
       "      <th>user_id</th>\n",
       "      <th>user_url</th>\n",
       "      <th>posted</th>\n",
       "      <th>item_id</th>\n",
       "      <th>recommend</th>\n",
       "      <th>review</th>\n",
       "      <th>sentiment_analysis</th>\n",
       "    </tr>\n",
       "  </thead>\n",
       "  <tbody>\n",
       "    <tr>\n",
       "      <th>0</th>\n",
       "      <td>76561197970982479</td>\n",
       "      <td>http://steamcommunity.com/profiles/76561197970...</td>\n",
       "      <td>2011-11-05</td>\n",
       "      <td>1250</td>\n",
       "      <td>True</td>\n",
       "      <td>Simple yet with great replayability. In my opi...</td>\n",
       "      <td>2</td>\n",
       "    </tr>\n",
       "    <tr>\n",
       "      <th>1</th>\n",
       "      <td>76561197970982479</td>\n",
       "      <td>http://steamcommunity.com/profiles/76561197970...</td>\n",
       "      <td>2011-07-15</td>\n",
       "      <td>22200</td>\n",
       "      <td>True</td>\n",
       "      <td>It's unique and worth a playthrough.</td>\n",
       "      <td>2</td>\n",
       "    </tr>\n",
       "    <tr>\n",
       "      <th>2</th>\n",
       "      <td>76561197970982479</td>\n",
       "      <td>http://steamcommunity.com/profiles/76561197970...</td>\n",
       "      <td>2011-04-21</td>\n",
       "      <td>43110</td>\n",
       "      <td>True</td>\n",
       "      <td>Great atmosphere. The gunplay can be a bit chu...</td>\n",
       "      <td>2</td>\n",
       "    </tr>\n",
       "    <tr>\n",
       "      <th>3</th>\n",
       "      <td>js41637</td>\n",
       "      <td>http://steamcommunity.com/id/js41637</td>\n",
       "      <td>2014-06-24</td>\n",
       "      <td>251610</td>\n",
       "      <td>True</td>\n",
       "      <td>I know what you think when you see this title ...</td>\n",
       "      <td>2</td>\n",
       "    </tr>\n",
       "    <tr>\n",
       "      <th>4</th>\n",
       "      <td>js41637</td>\n",
       "      <td>http://steamcommunity.com/id/js41637</td>\n",
       "      <td>2013-09-08</td>\n",
       "      <td>227300</td>\n",
       "      <td>True</td>\n",
       "      <td>For a simple (it's actually not all that simpl...</td>\n",
       "      <td>2</td>\n",
       "    </tr>\n",
       "    <tr>\n",
       "      <th>...</th>\n",
       "      <td>...</td>\n",
       "      <td>...</td>\n",
       "      <td>...</td>\n",
       "      <td>...</td>\n",
       "      <td>...</td>\n",
       "      <td>...</td>\n",
       "      <td>...</td>\n",
       "    </tr>\n",
       "    <tr>\n",
       "      <th>59252</th>\n",
       "      <td>llDracuwulf</td>\n",
       "      <td>http://steamcommunity.com/id/llDracuwulf</td>\n",
       "      <td>2015-10-14</td>\n",
       "      <td>730</td>\n",
       "      <td>True</td>\n",
       "      <td>its FUNNNNNNNN</td>\n",
       "      <td>1</td>\n",
       "    </tr>\n",
       "    <tr>\n",
       "      <th>59255</th>\n",
       "      <td>76561198223837952</td>\n",
       "      <td>http://steamcommunity.com/profiles/76561198223...</td>\n",
       "      <td>2015-10-10</td>\n",
       "      <td>253980</td>\n",
       "      <td>True</td>\n",
       "      <td>Awesome fantasy game if you don't mind the gra...</td>\n",
       "      <td>2</td>\n",
       "    </tr>\n",
       "    <tr>\n",
       "      <th>59265</th>\n",
       "      <td>76561198229845636</td>\n",
       "      <td>http://steamcommunity.com/profiles/76561198229...</td>\n",
       "      <td>2015-10-31</td>\n",
       "      <td>730</td>\n",
       "      <td>True</td>\n",
       "      <td>Prettyy Mad Game</td>\n",
       "      <td>0</td>\n",
       "    </tr>\n",
       "    <tr>\n",
       "      <th>59267</th>\n",
       "      <td>76561198232478272</td>\n",
       "      <td>http://steamcommunity.com/profiles/76561198232...</td>\n",
       "      <td>2015-12-14</td>\n",
       "      <td>730</td>\n",
       "      <td>True</td>\n",
       "      <td>AMAZING GAME 10/10</td>\n",
       "      <td>2</td>\n",
       "    </tr>\n",
       "    <tr>\n",
       "      <th>59276</th>\n",
       "      <td>AusBacon</td>\n",
       "      <td>http://steamcommunity.com/id/AusBacon</td>\n",
       "      <td>2015-12-29</td>\n",
       "      <td>369200</td>\n",
       "      <td>True</td>\n",
       "      <td>Why I voted yes? 1. Girl characters have boobs...</td>\n",
       "      <td>2</td>\n",
       "    </tr>\n",
       "  </tbody>\n",
       "</table>\n",
       "<p>49070 rows × 7 columns</p>\n",
       "</div>"
      ],
      "text/plain": [
       "                 user_id                                           user_url  \\\n",
       "0      76561197970982479  http://steamcommunity.com/profiles/76561197970...   \n",
       "1      76561197970982479  http://steamcommunity.com/profiles/76561197970...   \n",
       "2      76561197970982479  http://steamcommunity.com/profiles/76561197970...   \n",
       "3                js41637               http://steamcommunity.com/id/js41637   \n",
       "4                js41637               http://steamcommunity.com/id/js41637   \n",
       "...                  ...                                                ...   \n",
       "59252        llDracuwulf           http://steamcommunity.com/id/llDracuwulf   \n",
       "59255  76561198223837952  http://steamcommunity.com/profiles/76561198223...   \n",
       "59265  76561198229845636  http://steamcommunity.com/profiles/76561198229...   \n",
       "59267  76561198232478272  http://steamcommunity.com/profiles/76561198232...   \n",
       "59276           AusBacon              http://steamcommunity.com/id/AusBacon   \n",
       "\n",
       "          posted  item_id  recommend  \\\n",
       "0     2011-11-05     1250       True   \n",
       "1     2011-07-15    22200       True   \n",
       "2     2011-04-21    43110       True   \n",
       "3     2014-06-24   251610       True   \n",
       "4     2013-09-08   227300       True   \n",
       "...          ...      ...        ...   \n",
       "59252 2015-10-14      730       True   \n",
       "59255 2015-10-10   253980       True   \n",
       "59265 2015-10-31      730       True   \n",
       "59267 2015-12-14      730       True   \n",
       "59276 2015-12-29   369200       True   \n",
       "\n",
       "                                                  review  sentiment_analysis  \n",
       "0      Simple yet with great replayability. In my opi...                   2  \n",
       "1                   It's unique and worth a playthrough.                   2  \n",
       "2      Great atmosphere. The gunplay can be a bit chu...                   2  \n",
       "3      I know what you think when you see this title ...                   2  \n",
       "4      For a simple (it's actually not all that simpl...                   2  \n",
       "...                                                  ...                 ...  \n",
       "59252                                     its FUNNNNNNNN                   1  \n",
       "59255  Awesome fantasy game if you don't mind the gra...                   2  \n",
       "59265                                   Prettyy Mad Game                   0  \n",
       "59267                                 AMAZING GAME 10/10                   2  \n",
       "59276  Why I voted yes? 1. Girl characters have boobs...                   2  \n",
       "\n",
       "[49070 rows x 7 columns]"
      ]
     },
     "execution_count": 22,
     "metadata": {},
     "output_type": "execute_result"
    }
   ],
   "source": [
    "#eliminamos los datos duplicados \n",
    "reviews.drop_duplicates()"
   ]
  },
  {
   "cell_type": "code",
   "execution_count": 23,
   "metadata": {},
   "outputs": [
    {
     "data": {
      "text/plain": [
       "recommend\n",
       "True     44182\n",
       "False     5004\n",
       "Name: count, dtype: int64"
      ]
     },
     "execution_count": 23,
     "metadata": {},
     "output_type": "execute_result"
    }
   ],
   "source": [
    "# se cuentan los valores de la columna recommend\n",
    "reviews['recommend'].value_counts()"
   ]
  },
  {
   "cell_type": "code",
   "execution_count": 24,
   "metadata": {},
   "outputs": [
    {
     "data": {
      "text/html": [
       "<div>\n",
       "<style scoped>\n",
       "    .dataframe tbody tr th:only-of-type {\n",
       "        vertical-align: middle;\n",
       "    }\n",
       "\n",
       "    .dataframe tbody tr th {\n",
       "        vertical-align: top;\n",
       "    }\n",
       "\n",
       "    .dataframe thead th {\n",
       "        text-align: right;\n",
       "    }\n",
       "</style>\n",
       "<table border=\"1\" class=\"dataframe\">\n",
       "  <thead>\n",
       "    <tr style=\"text-align: right;\">\n",
       "      <th></th>\n",
       "      <th>user_id</th>\n",
       "      <th>user_url</th>\n",
       "      <th>posted</th>\n",
       "      <th>recommend</th>\n",
       "      <th>review</th>\n",
       "      <th>sentiment_analysis</th>\n",
       "    </tr>\n",
       "    <tr>\n",
       "      <th>item_id</th>\n",
       "      <th></th>\n",
       "      <th></th>\n",
       "      <th></th>\n",
       "      <th></th>\n",
       "      <th></th>\n",
       "      <th></th>\n",
       "    </tr>\n",
       "  </thead>\n",
       "  <tbody>\n",
       "    <tr>\n",
       "      <th>10</th>\n",
       "      <td>51</td>\n",
       "      <td>51</td>\n",
       "      <td>51</td>\n",
       "      <td>51</td>\n",
       "      <td>51</td>\n",
       "      <td>51</td>\n",
       "    </tr>\n",
       "    <tr>\n",
       "      <th>20</th>\n",
       "      <td>15</td>\n",
       "      <td>15</td>\n",
       "      <td>15</td>\n",
       "      <td>15</td>\n",
       "      <td>15</td>\n",
       "      <td>15</td>\n",
       "    </tr>\n",
       "    <tr>\n",
       "      <th>30</th>\n",
       "      <td>4</td>\n",
       "      <td>4</td>\n",
       "      <td>4</td>\n",
       "      <td>4</td>\n",
       "      <td>4</td>\n",
       "      <td>4</td>\n",
       "    </tr>\n",
       "    <tr>\n",
       "      <th>40</th>\n",
       "      <td>1</td>\n",
       "      <td>1</td>\n",
       "      <td>1</td>\n",
       "      <td>1</td>\n",
       "      <td>1</td>\n",
       "      <td>1</td>\n",
       "    </tr>\n",
       "    <tr>\n",
       "      <th>50</th>\n",
       "      <td>4</td>\n",
       "      <td>4</td>\n",
       "      <td>4</td>\n",
       "      <td>4</td>\n",
       "      <td>4</td>\n",
       "      <td>4</td>\n",
       "    </tr>\n",
       "    <tr>\n",
       "      <th>...</th>\n",
       "      <td>...</td>\n",
       "      <td>...</td>\n",
       "      <td>...</td>\n",
       "      <td>...</td>\n",
       "      <td>...</td>\n",
       "      <td>...</td>\n",
       "    </tr>\n",
       "    <tr>\n",
       "      <th>421890</th>\n",
       "      <td>1</td>\n",
       "      <td>1</td>\n",
       "      <td>1</td>\n",
       "      <td>1</td>\n",
       "      <td>1</td>\n",
       "      <td>1</td>\n",
       "    </tr>\n",
       "    <tr>\n",
       "      <th>422400</th>\n",
       "      <td>1</td>\n",
       "      <td>1</td>\n",
       "      <td>1</td>\n",
       "      <td>1</td>\n",
       "      <td>1</td>\n",
       "      <td>1</td>\n",
       "    </tr>\n",
       "    <tr>\n",
       "      <th>423120</th>\n",
       "      <td>1</td>\n",
       "      <td>1</td>\n",
       "      <td>1</td>\n",
       "      <td>1</td>\n",
       "      <td>1</td>\n",
       "      <td>1</td>\n",
       "    </tr>\n",
       "    <tr>\n",
       "      <th>423880</th>\n",
       "      <td>15</td>\n",
       "      <td>15</td>\n",
       "      <td>15</td>\n",
       "      <td>15</td>\n",
       "      <td>15</td>\n",
       "      <td>15</td>\n",
       "    </tr>\n",
       "    <tr>\n",
       "      <th>428880</th>\n",
       "      <td>1</td>\n",
       "      <td>1</td>\n",
       "      <td>1</td>\n",
       "      <td>1</td>\n",
       "      <td>1</td>\n",
       "      <td>1</td>\n",
       "    </tr>\n",
       "  </tbody>\n",
       "</table>\n",
       "<p>2897 rows × 6 columns</p>\n",
       "</div>"
      ],
      "text/plain": [
       "         user_id  user_url  posted  recommend  review  sentiment_analysis\n",
       "item_id                                                                  \n",
       "10            51        51      51         51      51                  51\n",
       "20            15        15      15         15      15                  15\n",
       "30             4         4       4          4       4                   4\n",
       "40             1         1       1          1       1                   1\n",
       "50             4         4       4          4       4                   4\n",
       "...          ...       ...     ...        ...     ...                 ...\n",
       "421890         1         1       1          1       1                   1\n",
       "422400         1         1       1          1       1                   1\n",
       "423120         1         1       1          1       1                   1\n",
       "423880        15        15      15         15      15                  15\n",
       "428880         1         1       1          1       1                   1\n",
       "\n",
       "[2897 rows x 6 columns]"
      ]
     },
     "execution_count": 24,
     "metadata": {},
     "output_type": "execute_result"
    }
   ],
   "source": [
    "reviews.groupby(reviews['item_id']).count()\n",
    "\n"
   ]
  },
  {
   "cell_type": "code",
   "execution_count": 25,
   "metadata": {},
   "outputs": [
    {
     "data": {
      "text/plain": [
       "user_id                       object\n",
       "user_url                      object\n",
       "posted                datetime64[ns]\n",
       "item_id                        int32\n",
       "recommend                       bool\n",
       "review                        object\n",
       "sentiment_analysis             int64\n",
       "dtype: object"
      ]
     },
     "execution_count": 25,
     "metadata": {},
     "output_type": "execute_result"
    }
   ],
   "source": [
    "#revisamos el tipo de dato de cada columna en el DF reviews\n",
    "reviews.dtypes"
   ]
  },
  {
   "cell_type": "code",
   "execution_count": 26,
   "metadata": {},
   "outputs": [
    {
     "data": {
      "text/plain": [
       "Index(['user_id', 'user_url', 'posted', 'item_id', 'recommend', 'review',\n",
       "       'sentiment_analysis'],\n",
       "      dtype='object')"
      ]
     },
     "execution_count": 26,
     "metadata": {},
     "output_type": "execute_result"
    }
   ],
   "source": [
    "# revisamos el nombre de las columnas del DF reviews\n",
    "reviews.columns"
   ]
  },
  {
   "cell_type": "code",
   "execution_count": 27,
   "metadata": {},
   "outputs": [
    {
     "data": {
      "text/html": [
       "<div>\n",
       "<style scoped>\n",
       "    .dataframe tbody tr th:only-of-type {\n",
       "        vertical-align: middle;\n",
       "    }\n",
       "\n",
       "    .dataframe tbody tr th {\n",
       "        vertical-align: top;\n",
       "    }\n",
       "\n",
       "    .dataframe thead th {\n",
       "        text-align: right;\n",
       "    }\n",
       "</style>\n",
       "<table border=\"1\" class=\"dataframe\">\n",
       "  <thead>\n",
       "    <tr style=\"text-align: right;\">\n",
       "      <th></th>\n",
       "      <th>posted</th>\n",
       "      <th>item_id</th>\n",
       "      <th>sentiment_analysis</th>\n",
       "    </tr>\n",
       "  </thead>\n",
       "  <tbody>\n",
       "    <tr>\n",
       "      <th>count</th>\n",
       "      <td>49186</td>\n",
       "      <td>49186.000000</td>\n",
       "      <td>49186.000000</td>\n",
       "    </tr>\n",
       "    <tr>\n",
       "      <th>mean</th>\n",
       "      <td>2014-09-08 16:51:37.466758912</td>\n",
       "      <td>155534.957061</td>\n",
       "      <td>1.482088</td>\n",
       "    </tr>\n",
       "    <tr>\n",
       "      <th>min</th>\n",
       "      <td>2010-10-16 00:00:00</td>\n",
       "      <td>10.000000</td>\n",
       "      <td>0.000000</td>\n",
       "    </tr>\n",
       "    <tr>\n",
       "      <th>25%</th>\n",
       "      <td>2014-02-20 00:00:00</td>\n",
       "      <td>6900.000000</td>\n",
       "      <td>1.000000</td>\n",
       "    </tr>\n",
       "    <tr>\n",
       "      <th>50%</th>\n",
       "      <td>2014-09-11 00:00:00</td>\n",
       "      <td>209090.000000</td>\n",
       "      <td>2.000000</td>\n",
       "    </tr>\n",
       "    <tr>\n",
       "      <th>75%</th>\n",
       "      <td>2015-05-03 00:00:00</td>\n",
       "      <td>248515.000000</td>\n",
       "      <td>2.000000</td>\n",
       "    </tr>\n",
       "    <tr>\n",
       "      <th>max</th>\n",
       "      <td>2015-12-31 00:00:00</td>\n",
       "      <td>428880.000000</td>\n",
       "      <td>2.000000</td>\n",
       "    </tr>\n",
       "    <tr>\n",
       "      <th>std</th>\n",
       "      <td>NaN</td>\n",
       "      <td>124549.146739</td>\n",
       "      <td>0.749623</td>\n",
       "    </tr>\n",
       "  </tbody>\n",
       "</table>\n",
       "</div>"
      ],
      "text/plain": [
       "                              posted        item_id  sentiment_analysis\n",
       "count                          49186   49186.000000        49186.000000\n",
       "mean   2014-09-08 16:51:37.466758912  155534.957061            1.482088\n",
       "min              2010-10-16 00:00:00      10.000000            0.000000\n",
       "25%              2014-02-20 00:00:00    6900.000000            1.000000\n",
       "50%              2014-09-11 00:00:00  209090.000000            2.000000\n",
       "75%              2015-05-03 00:00:00  248515.000000            2.000000\n",
       "max              2015-12-31 00:00:00  428880.000000            2.000000\n",
       "std                              NaN  124549.146739            0.749623"
      ]
     },
     "execution_count": 27,
     "metadata": {},
     "output_type": "execute_result"
    }
   ],
   "source": [
    "reviews.describe()"
   ]
  },
  {
   "cell_type": "code",
   "execution_count": 28,
   "metadata": {},
   "outputs": [
    {
     "name": "stdout",
     "output_type": "stream",
     "text": [
      "Palabra: game, Frecuencia: 33864\n",
      "Palabra: play, Frecuencia: 7432\n",
      "Palabra: fun, Frecuencia: 5213\n",
      "Palabra: one, Frecuencia: 5134\n",
      "Palabra: good, Frecuencia: 4065\n",
      "Palabra: time, Frecuencia: 3812\n",
      "Palabra: make, Frecuencia: 3542\n",
      "Palabra: great, Frecuencia: 3337\n",
      "Palabra: will, Frecuencia: 3306\n",
      "Palabra: played, Frecuencia: 3268\n"
     ]
    },
    {
     "data": {
      "image/png": "[encoded data removed]",
      "text/plain": [
       "<Figure size 640x480 with 1 Axes>"
      ]
     },
     "metadata": {},
     "output_type": "display_data"
    }
   ],
   "source": [
    "#hacemos que la columna review sea un texto para poder realizar la nube de palabras \n",
    "texto = ' '.join(reviews['review'])\n",
    "# Crear la nube de palabras\n",
    "wc = WordCloud(background_color='gray')\n",
    "wc.generate(texto)\n",
    "\n",
    "# Obtener las frecuencias de las palabras\n",
    "frecuencias = wc.process_text(texto)\n",
    "\n",
    "# Ordenar las palabras por frecuencia\n",
    "palabras_ordenadas = sorted(frecuencias.items(), key=lambda x: x[1], reverse=True)\n",
    "\n",
    "# Obtener las 10 palabras más frecuentes\n",
    "top_10_palabras = palabras_ordenadas[:10]\n",
    "\n",
    "# Imprimir las 10 palabras más frecuentes\n",
    "for palabra, frecuencia in top_10_palabras:\n",
    "    print(f'La palabra: {palabra}, aparece: {frecuencia}')\n",
    "\n",
    "# Mostrar la nube de palabras\n",
    "plt.imshow(wc, interpolation='bilinear')\n",
    "plt.axis('off')\n",
    "plt.show()"
   ]
  },
  {
   "cell_type": "code",
   "execution_count": 31,
   "metadata": {},
   "outputs": [
    {
     "data": {
      "image/png": "[encoded data removed]",
      "text/plain": [
       "<Figure size 640x480 with 1 Axes>"
      ]
     },
     "metadata": {},
     "output_type": "display_data"
    }
   ],
   "source": [
    "# Obtenemos el recuento de los reviews\n",
    "conteo_categorias = reviews['sentiment_analysis'].value_counts()\n",
    "\n",
    "# Crear el gráfico de barras para mostrar llos resultados \n",
    "plt.bar(conteo_categorias.index, conteo_categorias.values)\n",
    "plt.title('Análisis de Sentimientos')\n",
    "plt.xlabel('Categorías de Sentimiento')\n",
    "plt.ylabel('Cantidad')\n",
    "\n",
    "# Mostrar el gráfico\n",
    "plt.show()"
   ]
  },
  {
   "cell_type": "markdown",
   "metadata": {},
   "source": [
    "Encontramos que dentro de nuestro analisis de sentimientos \n",
    "* _31310_ reviews son positivas\n",
    "* _10096_ son neutrales\n",
    "* _7664_ son negativas  "
   ]
  },
  {
   "cell_type": "markdown",
   "metadata": {},
   "source": [
    "*Buscamos correlaciones bivariables*"
   ]
  },
  {
   "cell_type": "code",
   "execution_count": 32,
   "metadata": {},
   "outputs": [
    {
     "ename": "KeyError",
     "evalue": "('posted', 'sentiment_analysis')",
     "output_type": "error",
     "traceback": [
      "\u001b[1;31m---------------------------------------------------------------------------\u001b[0m",
      "\u001b[1;31mKeyError\u001b[0m                                  Traceback (most recent call last)",
      "File \u001b[1;32mc:\\Users\\hp\\Desktop\\HENRY\\Soy_Henry_Modulos\\PI_ML\\PI_ML_OPS_STEAM\\PI_ML_venv\\Lib\\site-packages\\pandas\\core\\indexes\\base.py:3791\u001b[0m, in \u001b[0;36mIndex.get_loc\u001b[1;34m(self, key)\u001b[0m\n\u001b[0;32m   3790\u001b[0m \u001b[39mtry\u001b[39;00m:\n\u001b[1;32m-> 3791\u001b[0m     \u001b[39mreturn\u001b[39;00m \u001b[39mself\u001b[39;49m\u001b[39m.\u001b[39;49m_engine\u001b[39m.\u001b[39;49mget_loc(casted_key)\n\u001b[0;32m   3792\u001b[0m \u001b[39mexcept\u001b[39;00m \u001b[39mKeyError\u001b[39;00m \u001b[39mas\u001b[39;00m err:\n",
      "File \u001b[1;32mindex.pyx:152\u001b[0m, in \u001b[0;36mpandas._libs.index.IndexEngine.get_loc\u001b[1;34m()\u001b[0m\n",
      "File \u001b[1;32mindex.pyx:181\u001b[0m, in \u001b[0;36mpandas._libs.index.IndexEngine.get_loc\u001b[1;34m()\u001b[0m\n",
      "File \u001b[1;32mpandas\\_libs\\hashtable_class_helper.pxi:7080\u001b[0m, in \u001b[0;36mpandas._libs.hashtable.PyObjectHashTable.get_item\u001b[1;34m()\u001b[0m\n",
      "File \u001b[1;32mpandas\\_libs\\hashtable_class_helper.pxi:7088\u001b[0m, in \u001b[0;36mpandas._libs.hashtable.PyObjectHashTable.get_item\u001b[1;34m()\u001b[0m\n",
      "\u001b[1;31mKeyError\u001b[0m: ('posted', 'sentiment_analysis')",
      "\nThe above exception was the direct cause of the following exception:\n",
      "\u001b[1;31mKeyError\u001b[0m                                  Traceback (most recent call last)",
      "\u001b[1;32mc:\\Users\\hp\\Desktop\\HENRY\\Soy_Henry_Modulos\\PI_ML\\PI_ML_OPS_STEAM\\PI_ML_OPS_STEAM\\Notebooks\\EDA.ipynb Celda 35\u001b[0m line \u001b[0;36m1\n\u001b[1;32m----> <a href='vscode-notebook-cell:/c%3A/Users/hp/Desktop/HENRY/Soy_Henry_Modulos/PI_ML/PI_ML_OPS_STEAM/PI_ML_OPS_STEAM/Notebooks/EDA.ipynb#X63sZmlsZQ%3D%3D?line=0'>1</a>\u001b[0m cols \u001b[39m=\u001b[39m reviews[\u001b[39m'\u001b[39;49m\u001b[39mposted\u001b[39;49m\u001b[39m'\u001b[39;49m,\u001b[39m'\u001b[39;49m\u001b[39msentiment_analysis\u001b[39;49m\u001b[39m'\u001b[39;49m]\n\u001b[0;32m      <a href='vscode-notebook-cell:/c%3A/Users/hp/Desktop/HENRY/Soy_Henry_Modulos/PI_ML/PI_ML_OPS_STEAM/PI_ML_OPS_STEAM/Notebooks/EDA.ipynb#X63sZmlsZQ%3D%3D?line=1'>2</a>\u001b[0m reviews[\u001b[39m'\u001b[39m\u001b[39mitem_id\u001b[39m\u001b[39m'\u001b[39m]\u001b[39m.\u001b[39mcorr(cols)\n",
      "File \u001b[1;32mc:\\Users\\hp\\Desktop\\HENRY\\Soy_Henry_Modulos\\PI_ML\\PI_ML_OPS_STEAM\\PI_ML_venv\\Lib\\site-packages\\pandas\\core\\frame.py:3893\u001b[0m, in \u001b[0;36mDataFrame.__getitem__\u001b[1;34m(self, key)\u001b[0m\n\u001b[0;32m   3891\u001b[0m \u001b[39mif\u001b[39;00m \u001b[39mself\u001b[39m\u001b[39m.\u001b[39mcolumns\u001b[39m.\u001b[39mnlevels \u001b[39m>\u001b[39m \u001b[39m1\u001b[39m:\n\u001b[0;32m   3892\u001b[0m     \u001b[39mreturn\u001b[39;00m \u001b[39mself\u001b[39m\u001b[39m.\u001b[39m_getitem_multilevel(key)\n\u001b[1;32m-> 3893\u001b[0m indexer \u001b[39m=\u001b[39m \u001b[39mself\u001b[39;49m\u001b[39m.\u001b[39;49mcolumns\u001b[39m.\u001b[39;49mget_loc(key)\n\u001b[0;32m   3894\u001b[0m \u001b[39mif\u001b[39;00m is_integer(indexer):\n\u001b[0;32m   3895\u001b[0m     indexer \u001b[39m=\u001b[39m [indexer]\n",
      "File \u001b[1;32mc:\\Users\\hp\\Desktop\\HENRY\\Soy_Henry_Modulos\\PI_ML\\PI_ML_OPS_STEAM\\PI_ML_venv\\Lib\\site-packages\\pandas\\core\\indexes\\base.py:3798\u001b[0m, in \u001b[0;36mIndex.get_loc\u001b[1;34m(self, key)\u001b[0m\n\u001b[0;32m   3793\u001b[0m     \u001b[39mif\u001b[39;00m \u001b[39misinstance\u001b[39m(casted_key, \u001b[39mslice\u001b[39m) \u001b[39mor\u001b[39;00m (\n\u001b[0;32m   3794\u001b[0m         \u001b[39misinstance\u001b[39m(casted_key, abc\u001b[39m.\u001b[39mIterable)\n\u001b[0;32m   3795\u001b[0m         \u001b[39mand\u001b[39;00m \u001b[39many\u001b[39m(\u001b[39misinstance\u001b[39m(x, \u001b[39mslice\u001b[39m) \u001b[39mfor\u001b[39;00m x \u001b[39min\u001b[39;00m casted_key)\n\u001b[0;32m   3796\u001b[0m     ):\n\u001b[0;32m   3797\u001b[0m         \u001b[39mraise\u001b[39;00m InvalidIndexError(key)\n\u001b[1;32m-> 3798\u001b[0m     \u001b[39mraise\u001b[39;00m \u001b[39mKeyError\u001b[39;00m(key) \u001b[39mfrom\u001b[39;00m \u001b[39merr\u001b[39;00m\n\u001b[0;32m   3799\u001b[0m \u001b[39mexcept\u001b[39;00m \u001b[39mTypeError\u001b[39;00m:\n\u001b[0;32m   3800\u001b[0m     \u001b[39m# If we have a listlike key, _check_indexing_error will raise\u001b[39;00m\n\u001b[0;32m   3801\u001b[0m     \u001b[39m#  InvalidIndexError. Otherwise we fall through and re-raise\u001b[39;00m\n\u001b[0;32m   3802\u001b[0m     \u001b[39m#  the TypeError.\u001b[39;00m\n\u001b[0;32m   3803\u001b[0m     \u001b[39mself\u001b[39m\u001b[39m.\u001b[39m_check_indexing_error(key)\n",
      "\u001b[1;31mKeyError\u001b[0m: ('posted', 'sentiment_analysis')"
     ]
    }
   ],
   "source": [
    "cols = reviews['posted','sentiment_analysis']\n",
    "reviews['item_id'].corr(cols)"
   ]
  },
  {
   "cell_type": "code",
   "execution_count": 28,
   "metadata": {},
   "outputs": [
    {
     "data": {
      "image/png": "[encoded data removed]",
      "text/plain": [
       "<Figure size 640x480 with 2 Axes>"
      ]
     },
     "metadata": {},
     "output_type": "display_data"
    }
   ],
   "source": [
    "# Calcular la correlación\n",
    "corr = reviews['item_id'].corr(reviews['recommend'])\n",
    "\n",
    "# Crear un DataFrame con la correlación\n",
    "df_corr = pd.DataFrame([[corr]], columns=['recommend'], index=['item_id'])\n",
    "\n",
    "# Crear el heatmap\n",
    "sns.heatmap(df_corr, annot=True)\n",
    "plt.show()"
   ]
  },
  {
   "cell_type": "code",
   "execution_count": 33,
   "metadata": {},
   "outputs": [
    {
     "data": {
      "text/plain": [
       "user_id              object\n",
       "item_id               int32\n",
       "item_name            object\n",
       "playtime_forever    float64\n",
       "dtype: object"
      ]
     },
     "execution_count": 33,
     "metadata": {},
     "output_type": "execute_result"
    }
   ],
   "source": [
    "items.dtypes"
   ]
  },
  {
   "cell_type": "code",
   "execution_count": 34,
   "metadata": {},
   "outputs": [
    {
     "data": {
      "text/plain": [
       "Index(['user_id', 'item_id', 'item_name', 'playtime_forever'], dtype='object')"
      ]
     },
     "execution_count": 34,
     "metadata": {},
     "output_type": "execute_result"
    }
   ],
   "source": [
    "items.columns"
   ]
  },
  {
   "cell_type": "code",
   "execution_count": 35,
   "metadata": {},
   "outputs": [
    {
     "name": "stdout",
     "output_type": "stream",
     "text": [
      "<class 'pandas.core.frame.DataFrame'>\n",
      "Index: 5153209 entries, 0 to 5170013\n",
      "Data columns (total 4 columns):\n",
      " #   Column            Dtype  \n",
      "---  ------            -----  \n",
      " 0   user_id           object \n",
      " 1   item_id           int32  \n",
      " 2   item_name         object \n",
      " 3   playtime_forever  float64\n",
      "dtypes: float64(1), int32(1), object(2)\n",
      "memory usage: 176.9+ MB\n"
     ]
    }
   ],
   "source": [
    "items.info()"
   ]
  },
  {
   "cell_type": "code",
   "execution_count": 32,
   "metadata": {},
   "outputs": [
    {
     "name": "stdout",
     "output_type": "stream",
     "text": [
      "minimo de tiempo jugado: 0.0 mins\n",
      "maximo de tiempo jugado: 642773.0 mins\n",
      "promedio de timepo jugado: 991.495 mins\n",
      "la desviacion standar es: 5418.204404857233\n",
      "nuestros cuartiles son 1er: 0.0 tercer 355.0\n"
     ]
    }
   ],
   "source": [
    "# obtenemos las estadisticas descriptivas para la columna 'playtime_forever' \n",
    "\n",
    "print(f'minimo de tiempo jugado:', items['playtime_forever'].min(),'mins')\n",
    "print(f'maximo de tiempo jugado:', items['playtime_forever'].max(),'mins')\n",
    "print(f'promedio de timepo jugado:', items['playtime_forever'].mean().round(3),'mins')\n",
    "\n",
    "print(f'la desviacion standar es:',items['playtime_forever'].std())\n",
    "print(f'nuestros cuartiles son 1er:',items['playtime_forever'].quantile(.25),'tercer',items['playtime_forever'].quantile(.75))"
   ]
  },
  {
   "cell_type": "markdown",
   "metadata": {},
   "source": [
    "en la columna 'playtime_forever' encontramos que: \n",
    "* minimo de tiempo jugado: 0.0 mins\n",
    "* maximo de tiempo jugado: 642773.0 mins\n",
    "* promedio de timepo jugado: 991.495 mins\n",
    "* la desviacion standar es: 5418.204404857233\n",
    "* nuestros cuartiles son 1er: 0.0 tercer 355.0"
   ]
  },
  {
   "cell_type": "markdown",
   "metadata": {},
   "source": []
  },
  {
   "cell_type": "code",
   "execution_count": null,
   "metadata": {},
   "outputs": [],
   "source": []
  }
 ],
 "metadata": {
  "kernelspec": {
   "display_name": "Python 3",
   "language": "python",
   "name": "python3"
  },
  "language_info": {
   "codemirror_mode": {
    "name": "ipython",
    "version": 3
   },
   "file_extension": ".py",
   "mimetype": "text/x-python",
   "name": "python",
   "nbconvert_exporter": "python",
   "pygments_lexer": "ipython3",
   "version": "3.11.7"
  }
 },
 "nbformat": 4,
 "nbformat_minor": 2
}
